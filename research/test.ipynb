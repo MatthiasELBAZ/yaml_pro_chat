{
 "cells": [
  {
   "cell_type": "code",
   "execution_count": 1,
   "metadata": {},
   "outputs": [],
   "source": [
    "from src.agent import  create_agent"
   ]
  },
  {
   "cell_type": "code",
   "execution_count": 2,
   "metadata": {},
   "outputs": [],
   "source": [
    "agent = create_agent()"
   ]
  },
  {
   "cell_type": "code",
   "execution_count": 5,
   "metadata": {},
   "outputs": [],
   "source": [
    "from langchain_core.messages import HumanMessage\n",
    "\n",
    "\n",
    "user_input = \"Show me the yaml about the total number of orders\"\n",
    "\n",
    "input = {\n",
    "    \"messages\": [HumanMessage(content=user_input)],\n",
    "}\n",
    "\n",
    "config = {\"configurable\": {\"thread_id\": \"18\", \"user_id\": \"TPC-H\"}}\n"
   ]
  },
  {
   "cell_type": "code",
   "execution_count": 7,
   "metadata": {},
   "outputs": [
    {
     "ename": "GraphRecursionError",
     "evalue": "Recursion limit of 25 reached without hitting a stop condition. You can increase the limit by setting the `recursion_limit` config key.\nFor troubleshooting, visit: https://python.langchain.com/docs/troubleshooting/errors/GRAPH_RECURSION_LIMIT",
     "output_type": "error",
     "traceback": [
      "\u001b[31m---------------------------------------------------------------------------\u001b[39m",
      "\u001b[31mGraphRecursionError\u001b[39m                       Traceback (most recent call last)",
      "\u001b[36mCell\u001b[39m\u001b[36m \u001b[39m\u001b[32mIn[7]\u001b[39m\u001b[32m, line 2\u001b[39m\n\u001b[32m      1\u001b[39m \u001b[38;5;66;03m# Run the agent with the input\u001b[39;00m\n\u001b[32m----> \u001b[39m\u001b[32m2\u001b[39m result = \u001b[43magent\u001b[49m\u001b[43m.\u001b[49m\u001b[43minvoke\u001b[49m\u001b[43m(\u001b[49m\u001b[38;5;28;43minput\u001b[39;49m\u001b[43m,\u001b[49m\u001b[43m \u001b[49m\u001b[43mconfig\u001b[49m\u001b[43m)\u001b[49m\n",
      "\u001b[36mFile \u001b[39m\u001b[32m~/Desktop/experience/.venv/lib/python3.13/site-packages/langgraph/pregel/__init__.py:2894\u001b[39m, in \u001b[36mPregel.invoke\u001b[39m\u001b[34m(self, input, config, stream_mode, output_keys, interrupt_before, interrupt_after, checkpoint_during, debug, **kwargs)\u001b[39m\n\u001b[32m   2891\u001b[39m chunks: \u001b[38;5;28mlist\u001b[39m[Union[\u001b[38;5;28mdict\u001b[39m[\u001b[38;5;28mstr\u001b[39m, Any], Any]] = []\n\u001b[32m   2892\u001b[39m interrupts: \u001b[38;5;28mlist\u001b[39m[Interrupt] = []\n\u001b[32m-> \u001b[39m\u001b[32m2894\u001b[39m \u001b[43m\u001b[49m\u001b[38;5;28;43;01mfor\u001b[39;49;00m\u001b[43m \u001b[49m\u001b[43mchunk\u001b[49m\u001b[43m \u001b[49m\u001b[38;5;129;43;01min\u001b[39;49;00m\u001b[43m \u001b[49m\u001b[38;5;28;43mself\u001b[39;49m\u001b[43m.\u001b[49m\u001b[43mstream\u001b[49m\u001b[43m(\u001b[49m\n\u001b[32m   2895\u001b[39m \u001b[43m    \u001b[49m\u001b[38;5;28;43minput\u001b[39;49m\u001b[43m,\u001b[49m\n\u001b[32m   2896\u001b[39m \u001b[43m    \u001b[49m\u001b[43mconfig\u001b[49m\u001b[43m,\u001b[49m\n\u001b[32m   2897\u001b[39m \u001b[43m    \u001b[49m\u001b[43mstream_mode\u001b[49m\u001b[43m=\u001b[49m\u001b[43mstream_mode\u001b[49m\u001b[43m,\u001b[49m\n\u001b[32m   2898\u001b[39m \u001b[43m    \u001b[49m\u001b[43moutput_keys\u001b[49m\u001b[43m=\u001b[49m\u001b[43moutput_keys\u001b[49m\u001b[43m,\u001b[49m\n\u001b[32m   2899\u001b[39m \u001b[43m    \u001b[49m\u001b[43minterrupt_before\u001b[49m\u001b[43m=\u001b[49m\u001b[43minterrupt_before\u001b[49m\u001b[43m,\u001b[49m\n\u001b[32m   2900\u001b[39m \u001b[43m    \u001b[49m\u001b[43minterrupt_after\u001b[49m\u001b[43m=\u001b[49m\u001b[43minterrupt_after\u001b[49m\u001b[43m,\u001b[49m\n\u001b[32m   2901\u001b[39m \u001b[43m    \u001b[49m\u001b[43mcheckpoint_during\u001b[49m\u001b[43m=\u001b[49m\u001b[43mcheckpoint_during\u001b[49m\u001b[43m,\u001b[49m\n\u001b[32m   2902\u001b[39m \u001b[43m    \u001b[49m\u001b[43mdebug\u001b[49m\u001b[43m=\u001b[49m\u001b[43mdebug\u001b[49m\u001b[43m,\u001b[49m\n\u001b[32m   2903\u001b[39m \u001b[43m    \u001b[49m\u001b[43m*\u001b[49m\u001b[43m*\u001b[49m\u001b[43mkwargs\u001b[49m\u001b[43m,\u001b[49m\n\u001b[32m   2904\u001b[39m \u001b[43m\u001b[49m\u001b[43m)\u001b[49m\u001b[43m:\u001b[49m\n\u001b[32m   2905\u001b[39m \u001b[43m    \u001b[49m\u001b[38;5;28;43;01mif\u001b[39;49;00m\u001b[43m \u001b[49m\u001b[43mstream_mode\u001b[49m\u001b[43m \u001b[49m\u001b[43m==\u001b[49m\u001b[43m \u001b[49m\u001b[33;43m\"\u001b[39;49m\u001b[33;43mvalues\u001b[39;49m\u001b[33;43m\"\u001b[39;49m\u001b[43m:\u001b[49m\n\u001b[32m   2906\u001b[39m \u001b[43m        \u001b[49m\u001b[38;5;28;43;01mif\u001b[39;49;00m\u001b[43m \u001b[49m\u001b[43m(\u001b[49m\n\u001b[32m   2907\u001b[39m \u001b[43m            \u001b[49m\u001b[38;5;28;43misinstance\u001b[39;49m\u001b[43m(\u001b[49m\u001b[43mchunk\u001b[49m\u001b[43m,\u001b[49m\u001b[43m \u001b[49m\u001b[38;5;28;43mdict\u001b[39;49m\u001b[43m)\u001b[49m\n\u001b[32m   2908\u001b[39m \u001b[43m            \u001b[49m\u001b[38;5;129;43;01mand\u001b[39;49;00m\u001b[43m \u001b[49m\u001b[43m(\u001b[49m\u001b[43mints\u001b[49m\u001b[43m \u001b[49m\u001b[43m:=\u001b[49m\u001b[43m \u001b[49m\u001b[43mchunk\u001b[49m\u001b[43m.\u001b[49m\u001b[43mget\u001b[49m\u001b[43m(\u001b[49m\u001b[43mINTERRUPT\u001b[49m\u001b[43m)\u001b[49m\u001b[43m)\u001b[49m\u001b[43m \u001b[49m\u001b[38;5;129;43;01mis\u001b[39;49;00m\u001b[43m \u001b[49m\u001b[38;5;129;43;01mnot\u001b[39;49;00m\u001b[43m \u001b[49m\u001b[38;5;28;43;01mNone\u001b[39;49;00m\n\u001b[32m   2909\u001b[39m \u001b[43m        \u001b[49m\u001b[43m)\u001b[49m\u001b[43m:\u001b[49m\n",
      "\u001b[36mFile \u001b[39m\u001b[32m~/Desktop/experience/.venv/lib/python3.13/site-packages/langgraph/pregel/__init__.py:2547\u001b[39m, in \u001b[36mPregel.stream\u001b[39m\u001b[34m(self, input, config, stream_mode, output_keys, interrupt_before, interrupt_after, checkpoint_during, debug, subgraphs)\u001b[39m\n\u001b[32m   2538\u001b[39m \u001b[38;5;28;01mif\u001b[39;00m loop.status == \u001b[33m\"\u001b[39m\u001b[33mout_of_steps\u001b[39m\u001b[33m\"\u001b[39m:\n\u001b[32m   2539\u001b[39m     msg = create_error_message(\n\u001b[32m   2540\u001b[39m         message=(\n\u001b[32m   2541\u001b[39m             \u001b[33mf\u001b[39m\u001b[33m\"\u001b[39m\u001b[33mRecursion limit of \u001b[39m\u001b[38;5;132;01m{\u001b[39;00mconfig[\u001b[33m'\u001b[39m\u001b[33mrecursion_limit\u001b[39m\u001b[33m'\u001b[39m]\u001b[38;5;132;01m}\u001b[39;00m\u001b[33m reached \u001b[39m\u001b[33m\"\u001b[39m\n\u001b[32m   (...)\u001b[39m\u001b[32m   2545\u001b[39m         error_code=ErrorCode.GRAPH_RECURSION_LIMIT,\n\u001b[32m   2546\u001b[39m     )\n\u001b[32m-> \u001b[39m\u001b[32m2547\u001b[39m     \u001b[38;5;28;01mraise\u001b[39;00m GraphRecursionError(msg)\n\u001b[32m   2548\u001b[39m \u001b[38;5;66;03m# set final channel values as run output\u001b[39;00m\n\u001b[32m   2549\u001b[39m run_manager.on_chain_end(loop.output)\n",
      "\u001b[31mGraphRecursionError\u001b[39m: Recursion limit of 25 reached without hitting a stop condition. You can increase the limit by setting the `recursion_limit` config key.\nFor troubleshooting, visit: https://python.langchain.com/docs/troubleshooting/errors/GRAPH_RECURSION_LIMIT"
     ]
    }
   ],
   "source": [
    "# Run the agent with the input\n",
    "result = agent.invoke(input, config)"
   ]
  },
  {
   "cell_type": "code",
   "execution_count": 8,
   "metadata": {},
   "outputs": [
    {
     "name": "stdout",
     "output_type": "stream",
     "text": [
      "================================\u001b[1m Human Message \u001b[0m=================================\n",
      "\n",
      "Show me the yaml about the total number of orders\n",
      "==================================\u001b[1m Ai Message \u001b[0m==================================\n",
      "Tool Calls:\n",
      "  search_memory (call_na6P0pr52Y2oRkO5bcyQrBJj)\n",
      " Call ID: call_na6P0pr52Y2oRkO5bcyQrBJj\n",
      "  Args:\n",
      "    query: total number of orders YAML\n",
      "=================================\u001b[1m Tool Message \u001b[0m=================================\n",
      "Name: search_memory\n",
      "\n",
      "[]\n",
      "==================================\u001b[1m Ai Message \u001b[0m==================================\n",
      "Tool Calls:\n",
      "  search_tool (call_BclfYXKOeHqKj6ZulZEd7GjI)\n",
      " Call ID: call_BclfYXKOeHqKj6ZulZEd7GjI\n",
      "  Args:\n",
      "    query: Lynk.ai YAML example total number of orders\n",
      "=================================\u001b[1m Tool Message \u001b[0m=================================\n",
      "Name: search_tool\n",
      "\n",
      "[{\"title\": \"Data assets | Lynk docs\", \"url\": \"https://docs.getlynk.ai/reference/data-modeling/data-assets\", \"content\": \"Data assets | Lynk docs\\n Lynk docs\\nAsk or search...\\nCtrl K\\n\\nIntroduction\\n\\nReference \\n\\n\\nData modeling\\n\\n\\nEntities\\n\\nRelated data assets\\nRelated Entities\\n\\n\\n\\nFeatures\\n\\nField\\nMetric\\nFirst-Last\\nFormula\\n\\n\\n\\nChaining features\\n\\n\\nData assets\\n\\nFilters\\n\\n\\n\\nContext\\n\\n\\n\\n\\nConsume & APIs\\n\\nTime aggregation\\nSQL API\\nAuthentication\\n\\n\\n\\nIntegrations\\n\\nGit\\nQuery engines\\n\\n\\n\\nGovernance\\n\\n\\n\\n\\nPowered by GitBook\\nOn this page\\n\\nData assets YAML file\\nasset\\nkey\\nbusiness_key [optional]\\ndefaults\\ntime_field [optional]\\nMeasures\\nName\\nDescription [optional]\\nSQL\\n\\nVirtual data assets\\n\\n\\nReference\\n\\nData modeling\\n\\nData assets\\nData assets are tables and views from the underlying data source (mostly a warehouse). Data assets can be related to entities and they are being used for creating entity features.\\nIt is recommended to use a transformation tool like dbt to transform raw data into dimensional model with DIM and FACT tables, and expose that dimensional model to Lynk Semantic Layer.\\n\\n\\nData assets YAML file\\nData assets can be modified either via code or via Lynk Studio UI. The below example shows a YAML file for the data asset db_prod.core.orders\\nSee the following example:\\nCopy\\n```\\ndb_prod.core.orders.yml\\nasset: db_prod.core.orders\\nkey: order_id\\nbusiness_key: []\\ndefaults:\\n  time_field: order_date\\nmeasures:\\n- name: count_orders\\n  description: count of orders\\n  sql: count(1)\\n- name: total_order_amount\\n  description: sum of order amount\\n  sql: sum({total_amount})\\n```\\nData assets are stored on the Lynk Graph DB during the discovery process. If changes are made to a data asset within Lynk (e.g adding fields / measures), a YAML file will be created as shown on the example above.\\nOnce a YAML file gets created for a data asset, the asset is now stored in Git as well as on the Graph DB. Lynk will take care for syncing the Graph DB and your Git repository. See more on Lynk GraphDB here.\\n\\nasset\\nData Asset name and location as it appears in your underlying Data Warehouse (db.schema.name)\\n\\nkey\\nThe asset key field (primary key). It is important to state the correct data asset key in order to avoid duplications and errors. Lynk will automatically find and suggest data asset keys after the discovery process is completed.\\n\\nbusiness_key [optional]\\nSometimes the key is just \\\"id\\\". In such cases, some combination of other fields might represent the level of granularity of that data asset, and make more sense business wise. We call this combination of fields the business_key of that asset.\\nBusiness keys help us be clear on what this data asset is about, and what each row represents.\\n\\ndefaults\\nHolds the defaults for the data asset. See default time field for example.\\n\\ntime_field [optional]\\nIt is recommended to choose a default time field for each data asset. Lynk will use the default time field to aggregate and filter time-related queries on features.\\nFor example, if we have a data asset for orders db_prod.core.orders and we set the default_time_field to be order_date, Lynk will use this field for time-based aggregations by default.\\nIn case a data asset has no default time_field , and no other time field will be chosen on the feature definition, Lynk will not skip aggregating that feature on any time level (the aggregation will be on \\\"all\\\" time)\\n\\nMeasures\\nMeasures are reusable components that define how the data asset fields should be aggregated. Lynk applies the measure logic once a feature of type metric feature is created and consumed.\\nIn practice, measures are definitions of how aggregate functions should be applied to fields;\\nCopy\\n```\\ndb_prod.core.orders.yml\\nmeasures:\\n\\nname: total_order_amount\\n  description: sum of order amount\\n  sql: sum({total_amount})\\n```\\n\\n\\nName\\nGive the measure a name. This will be used when creating metric features and also will be shown on the Studio UI. It is recommended to give measures informative names that indicate their purpose.\\n\\nDescription [optional]\\nDescribe the measure. It is recommended to give measures informative names that indicate their purpose - for other team members to be able to reuse the measure and for AI apps as well.\\n\\nSQL\\nThe measure definition. It should be composed of an aggregate function and a field. It is possible to chain multiple aggregate functions and / or multiple fields, just like you would do on plain SQL when needed.\\nLynk is SQL-first, meaning anything that would work on plain SQL will work with Lynk as well. You can type any SQL aggregate function compatible with your query engine, and Lynk will apply that as the measure definition and chain it to the query engine.\\nExamples: SUM , COUNT , MIN , MAX , COUNT DISTINCT , APPROX_PERCENTILE etc\\n\\nSome more examples:\\nCopy\\n```\\ndb_prod.core.orders.yml\\nmeasures:\\n\\n\\nname: count_orders\\n  description: count of orders\\n  sql: count(1)\\n\\n\\nname: total_order_amount\\n  description: sum of order amount\\n  sql: sum({total_amount})\\n\\n\\nname: successful_order_amount\\n  description: sum of successful orders amount\\n  sql: sum(IFF({order_status} = 'success', {total_amount}, 0))\\n```\\n\\n\\n\\n\\nVirtual data assets\\nVirtual data asset are data assets that live \\\"virtually\\\" within Lynk. Meaning, there is no materialized asset on the underlying data source. A virtual data assets is created for each entity within Lynk, where the entity is the \\\"asset\\\" and it's features are the \\\"fields\\\".\\nMeasures can be added to virtual data assets, just like in regular data assets.\\n\\nUsage of virtual data assets\\nvirtual data assets are mainly used for chaining features - creating entity features based on features of other related entities.\\nPrevious Chaining featuresNext Filters\\nLast updated 15 days ago\\n\\nStart now\\n\\nRequest Access\\n\\nWebsite\\n\\nHome\\n\\nThis site uses cookies to deliver its service and to analyze traffic. By browsing this site, you accept the privacy policy.\\nAccept Reject\"}, {\"title\": \"Entities | Lynk docs - docs.getlynk.ai\", \"url\": \"https://docs.getlynk.ai/reference/data-modeling/entities\", \"content\": \"Entities | Lynk docs\\n Lynk docs\\nAsk or search...\\nCtrl K\\n\\nIntroduction\\n\\nReference \\n\\n\\nData modeling\\n\\n\\nEntities\\n\\nRelated data assets\\nRelated Entities\\n\\n\\n\\nFeatures\\n\\nField\\nMetric\\nFirst-Last\\nFormula\\n\\n\\n\\nChaining features\\n\\n\\nData assets\\n\\nFilters\\n\\n\\n\\nContext\\n\\n\\n\\n\\nConsume & APIs\\n\\nTime aggregation\\nSQL API\\nAuthentication\\n\\n\\n\\nIntegrations\\n\\nGit\\nQuery engines\\n\\n\\n\\nGovernance\\n\\n\\n\\n\\nPowered by GitBook\\nOn this page\\n\\nDefining Entities\\nkey_table\\naliases\\nfeatures\\nrelated_assets\\nEntity relationships\\nConsuming Entities\\nGovernance\\n\\nDiscovery\\n\\n\\nReference\\n\\nData modeling\\n\\nEntities\\nEntities are real-world concepts like customers, orders, payments etc. These are first-class citizens in Lynk, meaning everything we build and consume is around entities.\\nThe main concept of Lynk Semantic Layer is to create a central source of truth for each of the entities in the business, in a trusted and accessible way. In other words, from a business perspective, for each business entity it should be clear what we know of it, how was it defined, and where we can find it. We call these pieces of information on an entity level - features.\\n\\n\\nDefining Entities\\nEntities can be defined either via code or via Lynk Studio UI. The below example shows how we define a customer entity as a YAML file:\\nCopy\\n```\\ncustomer.yml\\nname: customer\\ndescription: a customer is a user who logged in at least once\\nkey_table: db_prod.core.customer_dim\\naliases:\\n- user\\nfeatures:\\n\\ntype: metric\\n  name: orders_count\\n  asset: db_prod.core.orders\\n  measure: orders_count\\n  filters: null\\n\\nrelated_assets:\\ndb_prod.core.orders:\\n    relationship: one_to_many\\n    joins:\\n    - name: all_orders\\n      default: true\\n      type: sql\\n      sql: \\\"{source}.{customer_id} = {destination}.{customer_id}\\\"\\n```\\nFor a quick onboarding, use the discovery process to automatically extract business entities from your Data Warehouse schemas and SQL code.\\n\\nkey_table\\nAn entities is defined by it's key data asset. An entity key data asset is a table or a view in the data warehouse, that has all the entity instances, and each entity instance exists only once on this asset.\\nFor example, if our entity is customer, it's key data asset should have all the customers, and each customer appears only once in that data asset.\\nThe entity DIM table is a good fit here, if exists in the DWH. However, any data asset which answers the the above requirement can fit. Once loaded as an entity in Lynk, you will be able to add as many enrichment features as needed.\\n\\naliases\\nSometimes different people might call the same entity by different names. e.g a customer can also be referred to as a user. This is relevant especially when interacting with AI apps to ask questions. Lynk supports aliases to entity names.\\n\\nfeatures\\nFeatures are attributes that represent all we know about our Entities. It can be simple fields, aggregated metrics, first - last features, period-over-period formulas, custom formulas and more. See Features page for in depth information on this.\\n\\nrelated_assets\\nDefine which Data Assets are related to the entity. Related assets will be shown and used when creating new features for an entity. For example, if the data asset db_prod.core.orders is related to the entity customer, we will be able to extract features from db_prod.core.orders to the customer level. See Related assets for in depth information on this.\\n\\n\\nEntity relationships\\nTo see how to define and use relationships between entities, please see Related entities page.\\n\\n\\nConsuming Entities\\nEntities and Features are consumed via SQL API, REST API or via Lynk Playground. See Consume & APIs for in depth information on this.\\nCopy\\n```\\n-- Example for a simple SQL API query\\nSELECT  customer_id,\\n        total_order_amount,\\n        first_order_date,\\n        last_order_status\\nFROM    entity('customer') \\nWHERE   country = 'US'\\nLIMIT   100\\n```\\n\\n\\nGovernance\\nLynk Governance makes sure Entities are unique:\\n\\nEntities have unique names \\nEntities have unique Key data asset \\nEntity key asset validation (no duplications, no missing instances) \\nEntities do not share the same aliases \\n\\n\\n\\nDiscovery\\nLynk Discovery makes it easy to bootstrap your project and define entities automatically. Read more on this on the Discovery page.\\nPrevious Data modelingNext Related data assets\\nLast updated 15 days ago\\n\\nStart now\\n\\nRequest Access\\n\\nWebsite\\n\\nHome\\n\\nThis site uses cookies to deliver its service and to analyze traffic. By browsing this site, you accept the privacy policy.\\nAccept Reject\"}, {\"title\": \"Filters | Lynk docs - docs.getlynk.ai\", \"url\": \"https://docs.getlynk.ai/reference/data-modeling/data-assets/filters\", \"content\": \"Filters | Lynk docs\\n Lynk docs\\nAsk or search...\\nCtrl K\\n\\nIntroduction\\n\\nReference \\n\\n\\nData modeling\\n\\n\\nEntities\\n\\nRelated data assets\\nRelated Entities\\n\\n\\n\\nFeatures\\n\\nField\\nMetric\\nFirst-Last\\nFormula\\n\\n\\n\\nChaining features\\n\\n\\nData assets\\n\\nFilters\\n\\n\\n\\nContext\\n\\n\\n\\n\\nConsume & APIs\\n\\nTime aggregation\\nSQL API\\nAuthentication\\n\\n\\n\\nIntegrations\\n\\nGit\\nQuery engines\\n\\n\\n\\nGovernance\\n\\n\\n\\n\\nPowered by GitBook\\nOn this page\\n\\nfilters\\ntype\\nsql (type)\\nfields (type)\\nfield\\nOperator\\n\\nValues\\n\\n\\nReference\\n\\nData modeling\\nData assets\\n\\nFilters\\nFiltering data assets is simple and can be done on a feature definition level.\\nSee the following example:\\nCopy\\n```\\ncustomer.yml\\nfeatures: \\n\\ntype: metric\\n  name: orders_count_2025\\n  asset: db_prod.core.orders\\n  measures: count_orders\\n  filters:\\n\\ntype: sql\\n    sql: \\\"{asset}.{order_date} >= '2025-01-01' and {asset}.{order_date} <= '2025-12-31'\\\"\\n\\n\\ntype: metric\\n  name: successful_orders_count\\n  asset: db_prod.core.orders\\n  measures: count_orders\\n  filters:\\n\\ntype: fields\\n    field: order_status\\n    operator: is\\n    values:\\nsuccess\\n```\\n\\n\\n\\n\\nfilters\\nFilters are defined in the filters property. This is an array that can get as many filter inputs as needed, where each input can be defined as a SQL statement or a YAML statement (type : sql / field).\\nWhen defining multiple filters inputs, Lynk will chain these filters with an and statement between them and then apply them : filter_1 and filter_2 and filter_3\\n\\ntype\\nUse the filters type property to determine which method to use for the filter. The options for type are:\\n\\nsql \\nfield \\n\\n\\nsql (type)\\nUse sql code to define how a data asset should be filtered. When setting type: sql, you will need to add the sql property with the SQL definition of the relation.\\nIn this example, we use SQL to filter the orders data asset to retrieve only records where the order_date field is in 2025 for the feature orders_count_2025.\\nCopy\\n```\\ncustomer.yml\\nfeatures: \\n\\ntype: metric\\n  name: orders_count_2025\\n  asset: db_prod.core.orders\\n  measures: count_orders\\n  filters:\\ntype: sql\\n    sql: \\\"{asset}.{order_date} >= '2025-01-01' and {asset}.{order_date} <= '2025-12-31'\\\"\\n```\\n\\n\\nfields (type)\\nUse simple YAML-style to define how a data asset should be filtered. When setting type: fields, you will need to add the fields property with the fields and the operator that define the relation.\\n\\nExample (fields):\\nCopy\\n```\\ncustomer.yml\\nfeatures: \\n\\ntype: metric\\n  name: successful_orders_count\\n  asset: db_prod.core.orders\\n  measures: count_orders\\n  filters:\\ntype: fields\\n    field: order_status\\n    operator: is\\n    values:\\nsuccess\\n```\\n\\n\\n\\nIn the above example we filter the data asset db_prod.core.orders to retrieve only records where the value of the field order_status is 'success'.\\nUsing the filters type fields, the following properties should be specified:\\n\\nfield\\nThe field name in the data asset, which we would like to apply a filtering logic on.\\n\\nOperator\\nThe operator to be applied on the field , that defines the logic of which values we would like to filter in the results. The options for the operator property are:\\n\\nis\\nEquals to. \\\"A equals B\\\" translates to \\\"A = B\\\".\\nUsage example (is operator):\\nCopy\\n...\\n  filters:\\n  - type: fields\\n    field: order_status\\n    operator: is\\n    values:\\n    - success\\nRetrieves only records where the value of the field order_status is 'success'.\\n\\nis_not\\nDoes not equal to. \\\"A is_not B\\\" translates to \\\"A != B\\\" (or \\\"A <> B\\\").\\nUsage example (is_not operator):\\nCopy\\n...\\n  filters:\\n  - type: fields\\n    field: order_status\\n    operator: is_not\\n    values:\\n    - success\\nRetrieves only records where the value of the field order_status is not 'success'.\\n\\nbetween\\nBetween two values \\\"A between B and C\\\" translates to \\\"A >= B and A <= C\\nUsage example (between operator):\\nCopy\\n...\\n  filters:\\n  - type: fields\\n    field: order_date\\n    operator: between\\n    values:\\n    - 2024-01-01\\n    - 2025-01-01\\nRetrieves only records where the values of the field order_date are between '2024-01-01' and '2025-01-01'.\\nNote that the order matters - the first value is the lower bound and the second value is the upper bound of the between operator.\\n\\ngt\\nGreater than. \\\"A gt B\\\" translates to \\\"A > B\\\".\\nUsage example (gt operator):\\nCopy\\n...\\n  filters:\\n  - type: fields\\n    field: order_amount\\n    operator: gt\\n    values:\\n    - 100\\nRetrieves only records where the value of the field order_amount is greater than 100.\\n\\ngte\\nGreater than or equals to. \\\"A gte B\\\" translates \\\"to a >= b\\\".\\nUsage example (gte operator):\\nCopy\\n...\\n  filters:\\n  - type: fields\\n    field: order_amount\\n    operator: gte\\n    values:\\n    - 100\\nRetrieves only records where the value of the field order_amount is greater than or equals 100.\\n\\nlt\\nLower than. \\\"A lt B\\\" translates \\\"to a < b\\\".\\nUsage example (lt operator):\\nCopy\\n...\\n  filters:\\n  - type: fields\\n    field: order_amount\\n    operator: lt\\n    values:\\n    - 100\\nRetrieves only records where the value of the field order_amount is lower than 100.\\n\\nlte\\nLower than or equals to. \\\"A lte B\\\" translates \\\"to a <= b\\\".\\nUsage example (lte operator):\\nCopy\\n...\\n  filters:\\n  - type: fields\\n    field: order_amount\\n    operator: lte\\n    values:\\n    - 100\\nRetrieves only records where the value of the field order_amount is lower than or equals 100.\\n\\nis_set\\nThe value is not NULL. \\\"A is_set\\\" translates to \\\"A is not null\\\".\\nUsage example (is_set operator):\\nCopy\\n...\\n  filters:\\n  - type: fields\\n    field: order_amount\\n    operator: is_set\\nRetrieves only records where the value of the field order_amount is set. Meaning, order_amount is not Null.\\nNote that in the case of the operator is_set there is no need to add the values property.\\n\\nis_not_set\\nThe value is NULL. \\\"A is_not_set\\\" translates to \\\"A is null\\\".\\nUsage example (is_not_set operator):\\nCopy\\n...\\n  filters:\\n  - type: fields\\n    field: order_amount\\n    operator: is_not_set\\nRetrieves only records where the value of the field order_amount is not set. Meaning, order_amount is Null.\\nNote that in the case of the operator is_not_set there is no need to add the values property.\\n\\nValues\\nThe values to accept. Lynk will apply the operator logic to the field and the given values. The records that will return are the records where that filtering logic returns \\\"true\\\" (see this example)\\\\\\n\\nPrevious Data assetsNext Context\\nLast updated 15 days ago\\n\\nStart now\\n\\nRequest Access\\n\\nWebsite\\n\\nHome\\n\\nThis site uses cookies to deliver its service and to analyze traffic. By browsing this site, you accept the privacy policy.\\nAccept Reject\"}]\n",
      "==================================\u001b[1m Ai Message \u001b[0m==================================\n",
      "\n",
      "Based on the information from the Lynk.ai documentation, here is a YAML example for calculating the total number of orders:\n",
      "\n",
      "```yaml\n",
      "asset: db_prod.core.orders\n",
      "key: order_id\n",
      "business_key: []\n",
      "defaults:\n",
      "  time_field: order_date\n",
      "measures:\n",
      "  - name: count_orders\n",
      "    description: count of orders\n",
      "    sql: count(1)\n",
      "```\n",
      "\n",
      "This YAML defines a data asset for the orders table, specifying the primary key as `order_id` and setting `order_date` as the default time field. The measure `count_orders` is defined to count the total number of orders using the SQL function `count(1)`. \n",
      "\n",
      "If you need any modifications or additional features, please let me know!\n"
     ]
    }
   ],
   "source": [
    "for message in result[\"messages\"]:\n",
    "    message.pretty_print()"
   ]
  },
  {
   "cell_type": "code",
   "execution_count": null,
   "metadata": {},
   "outputs": [],
   "source": [
    "message"
   ]
  },
  {
   "cell_type": "code",
   "execution_count": null,
   "metadata": {},
   "outputs": [],
   "source": [
    "agent.store.search(\n",
    "    (\"Lynk_Agent\", \"TPC-H\", \"YAML_description\"),\n",
    "    query=\"Show me the yaml about the total number of orders\"\n",
    ")"
   ]
  },
  {
   "cell_type": "code",
   "execution_count": null,
   "metadata": {},
   "outputs": [],
   "source": [
    "result"
   ]
  },
  {
   "cell_type": "code",
   "execution_count": null,
   "metadata": {},
   "outputs": [],
   "source": []
  }
 ],
 "metadata": {
  "kernelspec": {
   "display_name": ".venv",
   "language": "python",
   "name": "python3"
  },
  "language_info": {
   "codemirror_mode": {
    "name": "ipython",
    "version": 3
   },
   "file_extension": ".py",
   "mimetype": "text/x-python",
   "name": "python",
   "nbconvert_exporter": "python",
   "pygments_lexer": "ipython3",
   "version": "3.13.0"
  }
 },
 "nbformat": 4,
 "nbformat_minor": 2
}
